{
 "cells": [
  {
   "cell_type": "code",
   "execution_count": 3,
   "metadata": {},
   "outputs": [
    {
     "name": "stdout",
     "output_type": "stream",
     "text": [
      "Accuracy : 100.0\n"
     ]
    },
    {
     "data": {
      "text/plain": [
       "'True'"
      ]
     },
     "execution_count": 3,
     "metadata": {},
     "output_type": "execute_result"
    }
   ],
   "source": [
    "import os\n",
    "import pandas as pd\n",
    "from netaddr import *\n",
    "import socket\n",
    "\n",
    "\n",
    "class Firewall:\n",
    "   \n",
    "    def __init__(self,rulesFilePath):\n",
    "        self.rulesFilePath = rulesFilePath\n",
    "        df = pd.DataFrame(columns=[\"direction\",\"protocol\",\"port\",\"ip_address\"])    \n",
    "        if(os.path.isfile(self.rulesFilePath)):\n",
    "            df = pd.read_csv(self.rulesFilePath)\n",
    "           \n",
    "            df[\"isRange\"] =  df.ip_address.apply(lambda x : True if \"-\" in x else False)\n",
    "            df[\"startIpRange\"] = df.apply(lambda x : int(IPAddress(x[\"ip_address\"].split(\"-\")[0])) if x[\"isRange\"] else 0,axis=1)\n",
    "            df[\"endIpRange\"] = df.apply(lambda x : int(IPAddress(x[\"ip_address\"].split(\"-\")[-1])) if x[\"isRange\"] else 0,axis=1)\n",
    "            df[\"isPortRange\"] =  df.port.apply(lambda x : True if \"-\" in x else False)\n",
    "            df[\"startPortRange\"] = df.apply(lambda x : int(x[\"port\"].split(\"-\")[0]) if x[\"isPortRange\"] else 0,axis=1)\n",
    "            df[\"endPortRange\"] = df.apply(lambda x : int(x[\"port\"].split(\"-\")[-1]) if x[\"isPortRange\"] else 0,axis=1)\n",
    "        else:\n",
    "            df = pd.DataFrame(columns=[\"direction\",\"protocol\",\"port\",\"ip_address\"])    \n",
    "        self.df = df\n",
    "           \n",
    "   \n",
    "    def accept_packet(self,direction=None,protocol=None,port=None,ip_address=None):\n",
    "       \n",
    "        if(len(self.df)==0):\n",
    "            return False\n",
    "        df = self.df\n",
    "        result = df[(df['direction']==direction) &\n",
    "                         (df['protocol']==protocol) &\n",
    "                         (df['port']==port) &\n",
    "                         (df['ip_address']==ip_address) ]\n",
    "       \n",
    "        intIPAddress  = int(IPAddress(ip_address))\n",
    "        intPortValue = int(port)\n",
    "        if(len(result)>0):\n",
    "            return True\n",
    "       \n",
    "        result = df[(df['direction']==direction) &\n",
    "                         (df['protocol']==protocol) &\n",
    "                         (df['port']==port) &\n",
    "                         (df['isRange']==True) &\n",
    "                         (\n",
    "                             (df['startIpRange']<=intIPAddress) &\n",
    "                             (df['endIpRange']>=intIPAddress)\n",
    "                         )]\n",
    "   \n",
    "        if(len(result)>0):\n",
    "            return True\n",
    "       \n",
    "       \n",
    "        result = df[(df['direction']==direction) &\n",
    "                         (df['protocol']==protocol) &\n",
    "                         (df['ip_address']==ip_address) &\n",
    "                         (df['isPortRange']==True) &\n",
    "                         (\n",
    "                             (df['startPortRange']<=intPortValue) &\n",
    "                             (df['endPortRange']>=intPortValue)\n",
    "                         )]\n",
    "       \n",
    "        if(len(result)>0):\n",
    "            return True\n",
    "       \n",
    "       \n",
    "        result = df[(df['direction']==direction) &\n",
    "                         (df['protocol']==protocol) &\n",
    "                         (df['isRange']==True) &\n",
    "                         (df['isPortRange']==True) &\n",
    "                         (\n",
    "                             (df['startIpRange']<=intIPAddress) &\n",
    "                             (df['endIpRange']>=intIPAddress)\n",
    "                         ) &\n",
    "                         (\n",
    "                             (df['startPortRange']<=intPortValue) &\n",
    "                             (df['endPortRange']>=intPortValue)\n",
    "                         )\n",
    "                        ]\n",
    "        if(len(result)>0):\n",
    "            return True\n",
    "       \n",
    "        else:\n",
    "            return False\n",
    "       \n",
    "       \n",
    "       \n",
    "   \n",
    "\n",
    "\n",
    "\n",
    "fireWallRules = Firewall(\"./input.csv\")\n",
    "\n",
    "#Test case showing Accuracy of packets being predicted\n",
    "resultsDB = 0\n",
    "datasetCount = 0\n",
    "for line in open(\"testDataset.csv\",\"r\").readlines():\n",
    "    line = line.strip().split(\",\")\n",
    "    if(str(fireWallRules.accept_packet(line[0],line[1],line[2],line[3])) == line[4]):\n",
    "        resultsDB= resultsDB + 1\n",
    "    datasetCount = datasetCount + 1\n",
    "    break\n",
    "print(\"Accuracy : {}\".format(round(resultsDB/datasetCount*100,2)))\n",
    "   \n",
    "\n",
    "str(fireWallRules.accept_packet(line[0],line[1],line[2],line[3])) \n"
   ]
  },
  {
   "cell_type": "code",
   "execution_count": 7,
   "metadata": {},
   "outputs": [
    {
     "data": {
      "text/plain": [
       "True"
      ]
     },
     "execution_count": 7,
     "metadata": {},
     "output_type": "execute_result"
    }
   ],
   "source": [
    "#Test\n",
    "fireWallRules.accept_packet(\"outbound\",\"udp\",\"1000\",\"10.10.10.0\")"
   ]
  },
  {
   "cell_type": "code",
   "execution_count": null,
   "metadata": {},
   "outputs": [],
   "source": []
  }
 ],
 "metadata": {
  "kernelspec": {
   "display_name": "Python 3",
   "language": "python",
   "name": "python3"
  },
  "language_info": {
   "codemirror_mode": {
    "name": "ipython",
    "version": 3
   },
   "file_extension": ".py",
   "mimetype": "text/x-python",
   "name": "python",
   "nbconvert_exporter": "python",
   "pygments_lexer": "ipython3",
   "version": "3.7.3"
  }
 },
 "nbformat": 4,
 "nbformat_minor": 2
}
